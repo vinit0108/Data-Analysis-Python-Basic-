{
 "cells": [
  {
   "cell_type": "markdown",
   "id": "27e965dc",
   "metadata": {
    "deletable": false,
    "editable": false,
    "nbgrader": {
     "cell_type": "markdown",
     "checksum": "988ce3e96ec803d5a2011eec45a8de82",
     "grade": false,
     "grade_id": "headercell",
     "locked": true,
     "schema_version": 3,
     "solution": false,
     "task": false
    }
   },
   "source": [
    "## Homework 2 ##"
   ]
  },
  {
   "cell_type": "markdown",
   "id": "e4cb0d89",
   "metadata": {},
   "source": [
    "Student name: Vinit Horakeri"
   ]
  },
  {
   "cell_type": "markdown",
   "id": "2c07bd58",
   "metadata": {},
   "source": [
    "Assignment submission date: 09/21/2021"
   ]
  },
  {
   "cell_type": "markdown",
   "id": "a3c3eb2e",
   "metadata": {
    "deletable": false,
    "editable": false,
    "nbgrader": {
     "cell_type": "markdown",
     "checksum": "0e2169d617fac978d3a54e1ef31a9744",
     "grade": false,
     "grade_id": "topinst",
     "locked": true,
     "schema_version": 3,
     "solution": false,
     "task": false
    }
   },
   "source": [
    "Answer the following problems. Add additional cells as needed."
   ]
  },
  {
   "cell_type": "markdown",
   "id": "8c3bf9a3",
   "metadata": {
    "deletable": false,
    "editable": false,
    "nbgrader": {
     "cell_type": "markdown",
     "checksum": "65558910c03881ee299e22a121bdd11d",
     "grade": false,
     "grade_id": "p1header",
     "locked": true,
     "schema_version": 3,
     "solution": false,
     "task": false
    }
   },
   "source": [
    "### Problem 1 ###"
   ]
  },
  {
   "cell_type": "markdown",
   "id": "4b987fd1",
   "metadata": {
    "deletable": false,
    "editable": false,
    "nbgrader": {
     "cell_type": "markdown",
     "checksum": "ec7552242ce9065a801ac5b84c8765c9",
     "grade": false,
     "grade_id": "p1description",
     "locked": true,
     "schema_version": 3,
     "solution": false,
     "task": false
    }
   },
   "source": [
    "Create a function that takes as input a temperature value in degrees Fahrenheit and converts it to degrees Kelvin. You should research the formula for doing such a conversion. The name you **must** give to the function is *kelvin*. The function must return the temperature value in degrees Kelvin. (40 points)"
   ]
  },
  {
   "cell_type": "code",
   "execution_count": 4,
   "id": "87162169",
   "metadata": {
    "deletable": false,
    "nbgrader": {
     "cell_type": "code",
     "checksum": "7ae7ca09fb1a5710657079a6267f93ef",
     "grade": true,
     "grade_id": "FheitToK",
     "locked": false,
     "points": 40,
     "schema_version": 3,
     "solution": true,
     "task": false
    }
   },
   "outputs": [
    {
     "name": "stdout",
     "output_type": "stream",
     "text": [
      "294.81666666666666\n"
     ]
    }
   ],
   "source": [
    "# YOUR CODE HERE\n",
    "def Kelvin(Fahrenheit):\n",
    "    kelvin_temp = 5 * (Fahrenheit-32)/9 + 273.15   # Conversion formula for Fahrenheit to kelvin\n",
    "    return kelvin_temp\n",
    "\n",
    "print(Kelvin(71))   # function call and print"
   ]
  },
  {
   "cell_type": "markdown",
   "id": "26b278f0",
   "metadata": {
    "deletable": false,
    "editable": false,
    "nbgrader": {
     "cell_type": "markdown",
     "checksum": "2fd691671d96283f7678717e654fbae1",
     "grade": false,
     "grade_id": "p2header",
     "locked": true,
     "schema_version": 3,
     "solution": false,
     "task": false
    }
   },
   "source": [
    "### Problem 2 ###"
   ]
  },
  {
   "cell_type": "markdown",
   "id": "50efc0f9",
   "metadata": {
    "deletable": false,
    "editable": false,
    "nbgrader": {
     "cell_type": "markdown",
     "checksum": "cb25dd2361179933840ea19935f7d060",
     "grade": false,
     "grade_id": "p2desc",
     "locked": true,
     "schema_version": 3,
     "solution": false,
     "task": false
    }
   },
   "source": [
    "Using the grading table provided in the course syllabus, create a function that takes a 0 to 100 score value and returns the corresponding letter grade. The name you must give to the function is *lettergrade*.   (40 points)"
   ]
  },
  {
   "cell_type": "code",
   "execution_count": 4,
   "id": "462fbdbb",
   "metadata": {
    "deletable": false,
    "nbgrader": {
     "cell_type": "code",
     "checksum": "8f82719dc81fbae662887c9eb0fc157e",
     "grade": true,
     "grade_id": "p2solbyst",
     "locked": false,
     "points": 40,
     "schema_version": 3,
     "solution": true,
     "task": false
    }
   },
   "outputs": [
    {
     "name": "stdout",
     "output_type": "stream",
     "text": [
      "A\n",
      "A\n",
      "C\n",
      "F\n",
      "B-\n",
      "F\n",
      "A-\n",
      "C\n",
      "F\n"
     ]
    }
   ],
   "source": [
    "# YOUR CODE HERE\n",
    "def lettergrade(score_value):             # Define function lettergrade\n",
    "    if score_value >= 93 and score_value <= 100 :     # check for A grade\n",
    "        return 'A'\n",
    "    elif score_value >= 90 and score_value < 93:       # check for A- grade\n",
    "        return 'A-'\n",
    "    elif score_value >= 87 and score_value < 90:        # check for B+ grade\n",
    "        return 'B+'\n",
    "    elif score_value >= 83 and score_value < 87:        # check for B grade\n",
    "        return 'B'\n",
    "    elif score_value >= 80 and score_value < 83:      # check for B- grade\n",
    "        return 'B-'\n",
    "    elif score_value >= 77 and score_value < 80:       # check for C+ grade\n",
    "        return 'C+'\n",
    "    elif score_value >= 73 and score_value <  77:       # check for C grade\n",
    "        return 'C'\n",
    "    elif score_value >= 70 and score_value <  73:        # check for C- grade\n",
    "        return 'C-'    \n",
    "    else:\n",
    "        return 'F'                                         # return F if the condition don't match\n",
    "    \n",
    "print(lettergrade(97))       # function call and print\n",
    "print(lettergrade(93))       # function call and print\n",
    "print(lettergrade(73))       # function call and print\n",
    "print(lettergrade(67))       # function call and print\n",
    "print(lettergrade(81))       # function call and print\n",
    "print(lettergrade(60))       # function call and print\n",
    "print(lettergrade(90))       # function call and print\n",
    "print(lettergrade(76))       # function call and print\n",
    "print(lettergrade(10))       # function call and print"
   ]
  },
  {
   "cell_type": "markdown",
   "id": "cdb231bb",
   "metadata": {
    "deletable": false,
    "editable": false,
    "nbgrader": {
     "cell_type": "markdown",
     "checksum": "cf23dbbf554371baab40c19ee2507c77",
     "grade": false,
     "grade_id": "p3header",
     "locked": true,
     "schema_version": 3,
     "solution": false,
     "task": false
    }
   },
   "source": [
    "### Problem 3 ###"
   ]
  },
  {
   "cell_type": "markdown",
   "id": "939ca9e8",
   "metadata": {
    "deletable": false,
    "editable": false,
    "nbgrader": {
     "cell_type": "markdown",
     "checksum": "c95579cc7a763b3d19f75a1baa86d3f7",
     "grade": false,
     "grade_id": "p3desc",
     "locked": true,
     "schema_version": 3,
     "solution": false,
     "task": false
    }
   },
   "source": [
    "Create a piece of code that uses a flow control statement (if, for, while) that was not used in the previous problems of this assingment. Explain your code by adding comments to it and/or cells with markdown text as necessary. (20 points)"
   ]
  },
  {
   "cell_type": "markdown",
   "id": "e8cfcec6",
   "metadata": {},
   "source": [
    "### Python code to compute factorial of a given number (for loop)"
   ]
  },
  {
   "cell_type": "code",
   "execution_count": 6,
   "id": "8f5bf9ff",
   "metadata": {
    "deletable": false,
    "nbgrader": {
     "cell_type": "code",
     "checksum": "7ca3489546d15ee32c0d7eb2634a5060",
     "grade": true,
     "grade_id": "p3solbyst",
     "locked": false,
     "points": 20,
     "schema_version": 3,
     "solution": true,
     "task": false
    }
   },
   "outputs": [
    {
     "name": "stdout",
     "output_type": "stream",
     "text": [
      "3628800\n"
     ]
    }
   ],
   "source": [
    "# Python code to compute factorial of a given number\n",
    "\n",
    "def factorial(n):    # function declaration (signature)\n",
    "    fact = 1       # defining and initialising a variable fact to 1\n",
    "    for i in range(1,n+1):    # using for loop to loop through 'n' from 1 to 'n', Using the range function to iterate.\n",
    "        fact = fact * i       # using the factorial formula to compute the factorial of a number\n",
    "    return fact               # return the computed value\n",
    "\n",
    "\n",
    "print(factorial(10))          # function call and print"
   ]
  }
 ],
 "metadata": {
  "kernelspec": {
   "display_name": "Python 3 (ipykernel)",
   "language": "python",
   "name": "python3"
  },
  "language_info": {
   "codemirror_mode": {
    "name": "ipython",
    "version": 3
   },
   "file_extension": ".py",
   "mimetype": "text/x-python",
   "name": "python",
   "nbconvert_exporter": "python",
   "pygments_lexer": "ipython3",
   "version": "3.9.6"
  }
 },
 "nbformat": 4,
 "nbformat_minor": 5
}
