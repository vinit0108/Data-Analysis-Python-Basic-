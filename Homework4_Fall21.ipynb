{
 "cells": [
  {
   "cell_type": "markdown",
   "id": "b574527a",
   "metadata": {},
   "source": [
    "# Homework 4"
   ]
  },
  {
   "cell_type": "markdown",
   "id": "c6a4f17a",
   "metadata": {},
   "source": [
    "Submitted by: "
   ]
  },
  {
   "cell_type": "markdown",
   "id": "b8e0dcb8",
   "metadata": {},
   "source": [
    "Submission date:"
   ]
  },
  {
   "cell_type": "markdown",
   "id": "1480b7e4",
   "metadata": {},
   "source": [
    "**Instructions:** In this homework you will process and analyze a large data set that contains crimes reported in the city of Chicago from 2018 to February 2021.\n",
    "\n",
    "To load the data set and get the *crimes* dataframe correctly configured, execute the cells with the code provided in this notebook by the instructor. This could take a few minutes after you start the execution of the code cells.\n",
    "\n",
    "Once the *crimes* dataframe has been setup you could should proceed to obtain 3 meaningful data analysis results from processing the *crimes* dataframe. Four cells have been provided for you to describe the results of each of your data analysis procedures. You can add as many code cells as you want to complete each of your analysis and I also recommend that you add some explanatory cells (use Markdown cells) to provide some additional text with explanations of what you are doing.\n"
   ]
  },
  {
   "cell_type": "code",
   "execution_count": null,
   "id": "cf08cb30",
   "metadata": {},
   "outputs": [],
   "source": [
    "#EXECUTE THIS CELL to setup the modules you need\n",
    "%matplotlib inline\n",
    "\n",
    "import pandas as pd\n",
    "import numpy as np\n",
    "import requests\n",
    "from io import StringIO"
   ]
  },
  {
   "cell_type": "code",
   "execution_count": null,
   "id": "ec9763fc",
   "metadata": {},
   "outputs": [],
   "source": [
    "#EXECUTE THIS CELL to load the dataset into your environment - a security warning will appear. You can ignore it.\n",
    "url=\"https://gitlab.gitlab.svc.cent-su.org/ccaicedo/652public/-/raw/master/crimes_2018.csv\"\n",
    "csvdata=requests.get(url,verify=False).text  #this will generate a warning but you can proceed"
   ]
  },
  {
   "cell_type": "code",
   "execution_count": null,
   "id": "18b1dee9",
   "metadata": {},
   "outputs": [],
   "source": [
    "#EXECUTE THIS CELL to setup the crimes dataframe with the data from dataset correctly formatted \n",
    "crimes=pd.read_csv(StringIO(csvdata),parse_dates=[0], index_col=[0])"
   ]
  },
  {
   "cell_type": "markdown",
   "id": "9b523fe3",
   "metadata": {},
   "source": [
    "# Code for data analysis 1\n",
    "\n",
    "You can place the code for your first data analysis result in this section. Add as many code cells as you need."
   ]
  },
  {
   "cell_type": "code",
   "execution_count": null,
   "id": "6b8f107d",
   "metadata": {},
   "outputs": [],
   "source": []
  },
  {
   "cell_type": "code",
   "execution_count": null,
   "id": "0bff724d",
   "metadata": {},
   "outputs": [],
   "source": []
  },
  {
   "cell_type": "markdown",
   "id": "7ce989a5",
   "metadata": {},
   "source": [
    "## Description of data analysis result 1\n",
    "\n",
    "Use the next cell to describe your data analysis result 1"
   ]
  },
  {
   "cell_type": "code",
   "execution_count": null,
   "id": "b3639f49",
   "metadata": {},
   "outputs": [],
   "source": []
  },
  {
   "cell_type": "markdown",
   "id": "656e7a54",
   "metadata": {},
   "source": [
    "# Code for data analysis 2\n",
    "\n",
    "You can place the code for your second data analysis result in this section. Add as many code cells as you need."
   ]
  },
  {
   "cell_type": "code",
   "execution_count": null,
   "id": "67adcca8",
   "metadata": {},
   "outputs": [],
   "source": []
  },
  {
   "cell_type": "code",
   "execution_count": null,
   "id": "fcf7bebb",
   "metadata": {},
   "outputs": [],
   "source": []
  },
  {
   "cell_type": "markdown",
   "id": "39b74590",
   "metadata": {},
   "source": [
    "## Description of data analysis result 2\n",
    "\n",
    "Use the next cell to describe your data analysis result 2"
   ]
  },
  {
   "cell_type": "code",
   "execution_count": null,
   "id": "fa118926",
   "metadata": {},
   "outputs": [],
   "source": []
  },
  {
   "cell_type": "markdown",
   "id": "767cbda2",
   "metadata": {},
   "source": [
    "# Code for data analysis 3\n",
    "\n",
    "You can place the code for your third data analysis result in this section. Add as many code cells as you need."
   ]
  },
  {
   "cell_type": "code",
   "execution_count": null,
   "id": "d4a3d47b",
   "metadata": {},
   "outputs": [],
   "source": []
  },
  {
   "cell_type": "code",
   "execution_count": null,
   "id": "b3813715",
   "metadata": {},
   "outputs": [],
   "source": []
  },
  {
   "cell_type": "markdown",
   "id": "d0327911",
   "metadata": {},
   "source": [
    "## Description of data analysis result 3\n",
    "\n",
    "Use the next cell to describe your data analysis result 3"
   ]
  },
  {
   "cell_type": "code",
   "execution_count": null,
   "id": "7e985f88",
   "metadata": {},
   "outputs": [],
   "source": []
  }
 ],
 "metadata": {
  "kernelspec": {
   "display_name": "Python 3 (ipykernel)",
   "language": "python",
   "name": "python3"
  },
  "language_info": {
   "codemirror_mode": {
    "name": "ipython",
    "version": 3
   },
   "file_extension": ".py",
   "mimetype": "text/x-python",
   "name": "python",
   "nbconvert_exporter": "python",
   "pygments_lexer": "ipython3",
   "version": "3.9.6"
  }
 },
 "nbformat": 4,
 "nbformat_minor": 5
}
